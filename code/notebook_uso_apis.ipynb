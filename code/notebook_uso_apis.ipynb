{
 "cells": [
  {
   "cell_type": "markdown",
   "id": "c59b2bcb",
   "metadata": {},
   "source": [
    "# Objetivo"
   ]
  },
  {
   "cell_type": "markdown",
   "id": "c17d0dfa",
   "metadata": {},
   "source": [
    "En este trabajo comparto el código de  tres funciones que nos permiten bajar datos de tres de los más importantes repositorios de datos de este mercado:\n",
    "\n",
    "* esios : https://www.esios.ree.es/es?locale=es\n",
    "* REDData API: https://www.ree.es/es/apidatos\n",
    "* MibGas : https://www.mibgas.es/es\n",
    "\n",
    "\n",
    "La información disponible en cada uno de ellos es muy vasta. En este ejercicio jugaremos con algunos ejemplos en cada una de las APIs...\n",
    "\n",
    "Vamos con ello..."
   ]
  },
  {
   "cell_type": "markdown",
   "id": "4c04baa5",
   "metadata": {},
   "source": [
    "# Importamos librerías"
   ]
  },
  {
   "cell_type": "code",
   "execution_count": 1,
   "id": "436b6d07",
   "metadata": {},
   "outputs": [],
   "source": [
    "import pandas as pd\n",
    "import numpy as np\n",
    "import requests\n",
    "import json\n",
    "from datetime import datetime,timedelta,date\n",
    "import sys\n",
    "\n",
    "\n",
    "\n",
    "import matplotlib.pyplot as plt\n",
    "from matplotlib.ticker import FuncFormatter\n",
    "from matplotlib import cm\n",
    "import matplotlib.dates as mdates\n",
    "import matplotlib.ticker as ticker\n",
    "from matplotlib.dates import (YEARLY, MONTHLY, DateFormatter, WeekdayLocator, MonthLocator,DayLocator,\n",
    "                              rrulewrapper, RRuleLocator, drange, num2date, date2num)\n",
    "import matplotlib.patches as mpatches\n",
    "import matplotlib.units as munits\n",
    "from matplotlib.dates import num2date, date2num\n",
    "\n",
    "import seaborn as sns\n",
    "\n",
    "\n",
    "from html.parser import HTMLParser\n",
    "import html\n",
    "\n",
    "sys.path.append(\"/Users/mharias/Documents/proyectos/mylibs\") # directorio de acceso a librerías auxiliares\n",
    "\n",
    "from pass_esios import token_esios #importo mi token de esios, añadan su propia clave en su versión"
   ]
  },
  {
   "cell_type": "markdown",
   "id": "ae992f7d",
   "metadata": {},
   "source": [
    "# Funciones para bajar los datos"
   ]
  },
  {
   "cell_type": "code",
   "execution_count": 2,
   "id": "a11b12cc",
   "metadata": {},
   "outputs": [],
   "source": [
    "def catalogo_esios(token):\n",
    "    \"\"\"\n",
    "    Descarga todos los identificadores y su descripcion de esios\n",
    "    \n",
    "    Parameters\n",
    "    ----------\n",
    "    token : str\n",
    "        El token de esios necesario para realizar las llamadas al API\n",
    "        \n",
    "    Returns\n",
    "    -------\n",
    "    DataFrame\n",
    "        Dataframe de pandas con el catalogo de los id de la API\n",
    "    \n",
    "    \"\"\"\n",
    "    \n",
    "    \n",
    "    headers = {'Accept':'application/json; application/vnd.esios-api-v2+json',\n",
    "           'Content-Type':'application/json',\n",
    "           'Host':'api.esios.ree.es',\n",
    "           'Cookie' : '',\n",
    "           'Authorization':'Token token={}'.format(token),\n",
    "           'Cache-Control': 'no-cache',\n",
    "           'Pragma': 'no-cache'\n",
    "          }\n",
    "    end_point = 'https://api.esios.ree.es/indicators'\n",
    "    response = requests.get(end_point, headers=headers).json()\n",
    "    \n",
    "    #del resultado en json bruto se convierte en pandas, y se eliminan los tags del campo description\n",
    "\n",
    "    return (pd\n",
    "            .json_normalize(data=response['indicators'], errors='ignore')\n",
    "            .assign(description = lambda df_: df_.apply(lambda df__: html.unescape(df__['description']\n",
    "                                                            .replace('<p>','')\n",
    "                                                            .replace('</p>','')\n",
    "                                                            .replace('<b>','')\n",
    "                                                            .replace('</b>','')), \n",
    "                                                  axis=1)\n",
    "                   )\n",
    "           )"
   ]
  },
  {
   "cell_type": "code",
   "execution_count": 3,
   "id": "febfa935",
   "metadata": {},
   "outputs": [],
   "source": [
    "def download_esios(token,indicadores,fecha_inicio,fecha_fin,time_trunc='day'):\n",
    "    \"\"\"\n",
    "    Descarga datos esios desde un determinado identidficador y entre dos fechas\n",
    "    \n",
    "    Parameters\n",
    "    ----------\n",
    "    token : str\n",
    "        El token de esios necesario para realizar las llamadas al API\n",
    "    \n",
    "    indicadores : list\n",
    "        Lista con los strings de los indicadores de los que queremos bajar datos\n",
    "        \n",
    "    fecha_inicio : str\n",
    "        Fecha con formato %Y-%M-%d, que indica la fecha desde la que se quiere bajar los datos.\n",
    "        Ejemplo 2022-10-30, 30 Octubre de 2022.\n",
    "    \n",
    "    fecha_fin : str\n",
    "        Fecha con formato %Y-%M-%d, que indica la fecha hasta la que se quiere bajar los datos.\n",
    "        Ejemplo 2022-10-30, 30 Octubre de 2022.\n",
    "        \n",
    "    time_trunc : str, optional\n",
    "        Campo adicional que nos permite elegir la granularidad de los datos que queremos bajar.\n",
    "        \n",
    "    Returns\n",
    "    -------\n",
    "    DataFrame\n",
    "        Dataframe de pandas con los datos solicitados\n",
    "    \n",
    "    \"\"\"\n",
    "    \n",
    "    # preparamos la cabecera a insertar en la llamada. Vease la necesidad de disponer el token de esios\n",
    "    \n",
    "    headers = {'Accept':'application/json; application/vnd.esios-api-v2+json',\n",
    "           'Content-Type':'application/json',\n",
    "           'Host':'api.esios.ree.es',\n",
    "           'Cookie' : '',\n",
    "           'Authorization':'Token token={}'.format(token),\n",
    "           'Cache-Control': 'no-cache',\n",
    "           'Pragma': 'no-cache'\n",
    "          }\n",
    "    \n",
    "    # preparamos la url básica a la que se le añadiran los campos necesarios \n",
    "    \n",
    "    end_point = 'https://api.esios.ree.es/indicators'\n",
    "    \n",
    "    # El procedimiento es sencillo: \n",
    "    # a) por cada uno de los indicadores configuraremos la url, según las indicaciones de la documentación.\n",
    "    # b) Hacemos la llamada y recogemos los datos en formato json.\n",
    "    # c) Añadimos la información a una lista\n",
    "    \n",
    "    lista=[]\n",
    "\n",
    "    for indicador in indicadores:\n",
    "        url = f'{end_point}/{indicador}?start_date={fecha_inicio}T00:00&\\\n",
    "        end_date={fecha_fin}T23:59&time_trunc={time_trunc}'\n",
    "        print (url)\n",
    "        response = requests.get(url, headers=headers).json()\n",
    "        lista.append(pd.json_normalize(data=response['indicator'], record_path=['values'], meta=['name','short_name'], errors='ignore'))\n",
    "\n",
    "    # Devolvemos como salida de la función un df fruto de la concatenación de los elemenos de la lista\n",
    "    # Este procedimiento, con una sola concatenación al final, es mucho más eficiente que hacer múltiples \n",
    "    # concatenaciones.\n",
    "    \n",
    "    return pd.concat(lista, ignore_index=True )"
   ]
  },
  {
   "cell_type": "code",
   "execution_count": 4,
   "id": "e7ae22e8",
   "metadata": {},
   "outputs": [],
   "source": [
    "def download_ree(indicador,fecha_inicio,fecha_fin,time_trunc='day'):\n",
    "    \"\"\"\n",
    "    Descarga datos desde apidatos.ree.es entre dos fechas determinadas \n",
    "    \n",
    "    Parameters\n",
    "    ----------\n",
    "    \n",
    "    indicador : str\n",
    "        Texto con el indicador del end point del que queremo bajar la información\n",
    "        \n",
    "    fecha_inicio : str\n",
    "        Fecha con formato %Y-%M-%d, que indica la fecha desde la que se quiere bajar los datos.\n",
    "        Ejemplo 2022-10-30, 30 Octubre de 2022.\n",
    "    \n",
    "    fecha_fin : str\n",
    "        Fecha con formato %Y-%M-%d, que indica la fecha hasta la que se quiere bajar los datos.\n",
    "        Ejemplo 2022-10-30, 30 Octubre de 2022.\n",
    "        \n",
    "    time_trunc : str, optional\n",
    "        Campo adicional que nos permite elegir la granularidad de los datos que queremos bajar.\n",
    "        Hour, Day, Month...dependiendo del end point se aplicará o no esta orden\n",
    "        \n",
    "    Returns\n",
    "    -------\n",
    "    DataFrame\n",
    "        Dataframe de pandas con los datos solicitados\n",
    "    \n",
    "    \"\"\"\n",
    "    \n",
    "    \n",
    "    headers = {'Accept': 'application/json',\n",
    "               'Content-Type': 'applic<ation/json',\n",
    "               'Host': 'apidatos.ree.es'}\n",
    "    \n",
    "    end_point = 'https://apidatos.ree.es/es/datos/'\n",
    "    \n",
    "    lista=[]\n",
    "    url = f'{end_point}{indicador}?start_date={fecha_inicio}T00:00&end_date={fecha_fin}T23:59&\\\n",
    "    time_trunc={time_trunc}'\n",
    "    print (url)\n",
    "    \n",
    "    response = requests.get(url, headers=headers).json()\n",
    "    \n",
    "    return pd.json_normalize(data=response['included'], \n",
    "                                   record_path=['attributes','values'], \n",
    "                                   meta=['type',['attributes','type' ]], \n",
    "                                   errors='ignore')"
   ]
  },
  {
   "cell_type": "code",
   "execution_count": 5,
   "id": "a2965c03",
   "metadata": {},
   "outputs": [],
   "source": [
    "def download_gas(year):\n",
    "    \"\"\"\n",
    "    Descarga datos de precio de gas desde MIBGAS para GDAES\n",
    "    \n",
    "    Parameters\n",
    "    ----------\n",
    "    year : str\n",
    "        Indicamos el año del que nos queremos bajar los datos de precio de gas PVB\n",
    "        \n",
    "    Returns\n",
    "    -------\n",
    "    DataFrame\n",
    "        Dataframe de pandas con los datos solicitados, columnas Fecha , Producto y Precio\n",
    "    \n",
    "    \"\"\"\n",
    "    \n",
    "    path = f'https://www.mibgas.es/en/file-access/MIBGAS_Data_{year}.xlsx?path=AGNO_{year}/XLS'\n",
    "    return (pd.read_excel(path,sheet_name='Trading Data PVB&VTP',usecols=['Trading day','Product','Daily Reference Price\\n[EUR/MWh]']).\n",
    "       query(\"Product=='GDAES_D+1'\").\n",
    "       rename(columns={'Trading day':'fecha','Product':'Producto','Daily Reference Price\\n[EUR/MWh]':'precio'}).\n",
    "       sort_values('fecha',ascending=True).\n",
    "       reset_index(drop=True)\n",
    "      )"
   ]
  },
  {
   "cell_type": "code",
   "execution_count": 6,
   "id": "963399d0",
   "metadata": {},
   "outputs": [],
   "source": [
    "def download_gas_rd(year):\n",
    "    \"\"\"\n",
    "    Descarga datos de precio de gas desde MIBGAS para compensación segñun RD10/2022\n",
    "    \n",
    "    Parameters\n",
    "    ----------\n",
    "    YEAR : str\n",
    "        Indicamos el año del que nos queremos bajar los datos de precio de gas de RD10/22\n",
    "        \n",
    "    Returns\n",
    "    -------\n",
    "    DataFrame\n",
    "        Dataframe de pandas con los datos solicitados, columnas Fecha , Producto y Precio\n",
    "    \n",
    "    \"\"\"\n",
    "    \n",
    "    path = f'https://www.mibgas.es/en/file-access/MIBGAS_Data_{year}.xlsx?path=AGNO_{year}/XLS'\n",
    "    return (pd.read_excel(path,sheet_name='PGN_RD_10_2022',\n",
    "                          usecols=['Date','PGN Price\\n[EUR/MWh]']).\n",
    "       rename(columns={'Date':'fecha','PGN Price\\n[EUR/MWh]':'precio'}).\n",
    "       sort_values('fecha',ascending=True).\n",
    "       reset_index(drop=True)\n",
    "      )\n",
    "\n",
    "      "
   ]
  },
  {
   "cell_type": "markdown",
   "id": "2d005dc0",
   "metadata": {},
   "source": [
    "# Esios"
   ]
  },
  {
   "cell_type": "markdown",
   "id": "8b1b77ef",
   "metadata": {},
   "source": [
    "## Preparamos un catálogo"
   ]
  },
  {
   "cell_type": "markdown",
   "id": "d5c3a63e",
   "metadata": {},
   "source": [
    "Empezamos con la función `catalogo_esios(token)` con la que generamos un pandas con todos los endpoints de esta API."
   ]
  },
  {
   "cell_type": "code",
   "execution_count": 7,
   "id": "76d49a87",
   "metadata": {},
   "outputs": [],
   "source": [
    "catalogo = catalogo_esios(token_esios)"
   ]
  },
  {
   "cell_type": "code",
   "execution_count": 8,
   "id": "993864c7",
   "metadata": {},
   "outputs": [
    {
     "data": {
      "text/html": [
       "<div>\n",
       "<style scoped>\n",
       "    .dataframe tbody tr th:only-of-type {\n",
       "        vertical-align: middle;\n",
       "    }\n",
       "\n",
       "    .dataframe tbody tr th {\n",
       "        vertical-align: top;\n",
       "    }\n",
       "\n",
       "    .dataframe thead th {\n",
       "        text-align: right;\n",
       "    }\n",
       "</style>\n",
       "<table border=\"1\" class=\"dataframe\">\n",
       "  <thead>\n",
       "    <tr style=\"text-align: right;\">\n",
       "      <th></th>\n",
       "      <th>name</th>\n",
       "      <th>description</th>\n",
       "      <th>id</th>\n",
       "    </tr>\n",
       "  </thead>\n",
       "  <tbody>\n",
       "    <tr>\n",
       "      <th>0</th>\n",
       "      <td>Número de activaciones</td>\n",
       "      <td>Número de activaciones</td>\n",
       "      <td>1928</td>\n",
       "    </tr>\n",
       "    <tr>\n",
       "      <th>1</th>\n",
       "      <td>RD-L 10/2022 mercado diario e intradiario - Anual</td>\n",
       "      <td>RD-L 10/2022 mercado diario e intradiario - Anual</td>\n",
       "      <td>10409</td>\n",
       "    </tr>\n",
       "    <tr>\n",
       "      <th>2</th>\n",
       "      <td>RD-L 10/2022 restricciones técnicas y mercados...</td>\n",
       "      <td>RD-L 10/2022 restricciones técnicas y mercados...</td>\n",
       "      <td>10411</td>\n",
       "    </tr>\n",
       "    <tr>\n",
       "      <th>3</th>\n",
       "      <td>RD-L 10/2022 mercado diario e intradiario - di...</td>\n",
       "      <td>RD-L 10/2022 mercado diario e intradiario - di...</td>\n",
       "      <td>10410</td>\n",
       "    </tr>\n",
       "    <tr>\n",
       "      <th>4</th>\n",
       "      <td>RD-L 10/2022 mercado diario e intradiario - Me...</td>\n",
       "      <td>RD-L 10/2022 mercado diario e intradiario - Me...</td>\n",
       "      <td>10406</td>\n",
       "    </tr>\n",
       "  </tbody>\n",
       "</table>\n",
       "</div>"
      ],
      "text/plain": [
       "                                                name  \\\n",
       "0                             Número de activaciones   \n",
       "1  RD-L 10/2022 mercado diario e intradiario - Anual   \n",
       "2  RD-L 10/2022 restricciones técnicas y mercados...   \n",
       "3  RD-L 10/2022 mercado diario e intradiario - di...   \n",
       "4  RD-L 10/2022 mercado diario e intradiario - Me...   \n",
       "\n",
       "                                         description     id  \n",
       "0                             Número de activaciones   1928  \n",
       "1  RD-L 10/2022 mercado diario e intradiario - Anual  10409  \n",
       "2  RD-L 10/2022 restricciones técnicas y mercados...  10411  \n",
       "3  RD-L 10/2022 mercado diario e intradiario - di...  10410  \n",
       "4  RD-L 10/2022 mercado diario e intradiario - Me...  10406  "
      ]
     },
     "execution_count": 8,
     "metadata": {},
     "output_type": "execute_result"
    }
   ],
   "source": [
    "catalogo.head()"
   ]
  },
  {
   "cell_type": "markdown",
   "id": "0089a692",
   "metadata": {},
   "source": [
    "podemos buscar los identificadores de las fuentes que nos interesan. Busquemos, como ejemplo, aquellas relacionadas con energía nuclear:"
   ]
  },
  {
   "cell_type": "code",
   "execution_count": 9,
   "id": "571dc861",
   "metadata": {},
   "outputs": [
    {
     "name": "stdout",
     "output_type": "stream",
     "text": [
      "1477 -> Potencia instalada de generación nuclear\n",
      "1403 -> Generación programada PHFC Nuclear\n",
      "1153 -> Generación medida Nuclear\n",
      "549 -> Generación T.Real nuclear\n",
      "482 -> Potencia disponible de generación Nuclear horizonte año móvil\n",
      "474 -> Potencia disponible de generación Nuclear horizonte horario\n",
      "466 -> Potencia instalada de generación convencional Nuclear\n",
      "424 -> Programa bilateral PBF Nuclear\n",
      "319 -> Generación programada PHF7 Nuclear\n",
      "284 -> Generación programada PHF6 Nuclear\n",
      "249 -> Generación programada PHF5 Nuclear\n",
      "214 -> Generación programada PHF4 Nuclear\n",
      "179 -> Generación programada PHF3 Nuclear\n",
      "144 -> Generación programada PHF2 Nuclear\n",
      "109 -> Generación programada PHF1 Nuclear\n",
      "74 -> Generación programada P48 Nuclear\n",
      "39 -> Generación programada PVP Nuclear\n",
      "4 -> Generación programada PBF Nuclear\n"
     ]
    }
   ],
   "source": [
    "for i in catalogo.loc[catalogo['name'].str.contains('uclear'),:].index:\n",
    "       print (f\"{catalogo.loc[i,'id']} -> {catalogo.loc[i,'name']}\")"
   ]
  },
  {
   "cell_type": "markdown",
   "id": "c2517344",
   "metadata": {},
   "source": [
    "Hemos utilizado como palabra clave `uclear` para que sea indiferente si va en mayúscula o en minúscula"
   ]
  },
  {
   "cell_type": "markdown",
   "id": "48b29cf5",
   "metadata": {},
   "source": [
    "También podemos hacer una búsqueda teniendo ya el identificador. Eso nos facilita el buscar los identificadores que nos proporcionan la información para generar ciertas gráficas de esios. Como ejemplo: \n",
    "\n",
    "https://www.esios.ree.es/es/analisis/1293?vis=1&start_date=04-11-2022T00%3A00&end_date=04-11-2022T23%3A55&compare_start_date=03-11-2022T00%3A00&groupby=minutes5&compare_indicators=545,544\n",
    "\n",
    "Esta gráfica, como podemos observa en la url, se genera con el ID=1293, y se compara con la 544 y 545."
   ]
  },
  {
   "cell_type": "code",
   "execution_count": 10,
   "id": "674d68a6",
   "metadata": {},
   "outputs": [],
   "source": [
    "identificadores = [544,545,1293]"
   ]
  },
  {
   "cell_type": "code",
   "execution_count": 11,
   "id": "efa98ed4",
   "metadata": {},
   "outputs": [
    {
     "name": "stdout",
     "output_type": "stream",
     "text": [
      "544-->Demanda prevista-\r\n",
      "\r\n",
      "Es la previsión de consumo que REE elabora teniendo en cuenta los valores de consumo registrados en periodos precedentes similares, así como otros factores con influencia en el consumo eléctrico como la laboralidad, la climatología y la actividad económica. Los valores diezminutales son representandos en forma de curva aplicando unos parámetros que parabolizan el valor constante horario.\r\n",
      "\r\n",
      "Publicación: diariamente a las 0:00 horas con la información del día D y a las 13:30 horas con las tres primeras horas del día D+1. Un valor cada diez minutos.\r\n",
      "\n",
      "\n",
      "545-->Demanda programada-Es la demanda de energía programada calculada mediante los intercambios internacionales programados y los programas de los grupos de generación a los que se les haya asignado suministro de energía en la casación de los mercados diario e intradiario, así como en los mercados de energías de balance RR y regulación terciaria. Estos dos últimos son gestionados por REE teniendo en cuenta la evolución de la demanda.Publicación: diariamente a las 0:00 horas con la información del día D y a las 13:30 horas con las tres primeras horas del día D+1. Un valor por hora.\n",
      "\n",
      "1293-->Demanda real-Es el valor real de la demanda de energía eléctrica medida en tiempo real.Publicación: cada 10 minutos con la información de los 10 minutos anteriores.\n",
      "\n"
     ]
    }
   ],
   "source": [
    "for id in identificadores:\n",
    " print(f\"{catalogo.loc[catalogo['id']==id,'id'].values[0]}-->{catalogo.loc[catalogo['id']==id,'name'].values[0]}\\\n",
    "-{catalogo.loc[catalogo['id']==id,'description'].values[0]}\"+'\\n')"
   ]
  },
  {
   "cell_type": "markdown",
   "id": "7e7f9b60",
   "metadata": {},
   "source": [
    "Y ahí tenemos los datos. Y podemos bajar los datos de estos dos últimos días"
   ]
  },
  {
   "cell_type": "markdown",
   "id": "6d3016d0",
   "metadata": {},
   "source": [
    "## Bajamos datos de algunos identificadores"
   ]
  },
  {
   "cell_type": "code",
   "execution_count": 13,
   "id": "d99feb0c",
   "metadata": {},
   "outputs": [],
   "source": [
    "fin = datetime.today().strftime('%Y-%m-%d')  # string con la fecha de hoy en el formato requerido por funcion\n",
    "inicio = (datetime.today()-timedelta(days=2)).strftime('%Y-%m-%d')"
   ]
  },
  {
   "cell_type": "code",
   "execution_count": 14,
   "id": "165192fe",
   "metadata": {},
   "outputs": [
    {
     "name": "stdout",
     "output_type": "stream",
     "text": [
      "https://api.esios.ree.es/indicators/544?start_date=2022-11-04T00:00&        end_date=2022-11-06T23:59&time_trunc=five_minutes\n",
      "https://api.esios.ree.es/indicators/545?start_date=2022-11-04T00:00&        end_date=2022-11-06T23:59&time_trunc=five_minutes\n",
      "https://api.esios.ree.es/indicators/1293?start_date=2022-11-04T00:00&        end_date=2022-11-06T23:59&time_trunc=five_minutes\n"
     ]
    }
   ],
   "source": [
    "datos_raw = download_esios(token_esios, identificadores, inicio, fin, time_trunc='five_minutes' )"
   ]
  },
  {
   "cell_type": "code",
   "execution_count": 15,
   "id": "835288a0",
   "metadata": {},
   "outputs": [
    {
     "data": {
      "text/html": [
       "<div>\n",
       "<style scoped>\n",
       "    .dataframe tbody tr th:only-of-type {\n",
       "        vertical-align: middle;\n",
       "    }\n",
       "\n",
       "    .dataframe tbody tr th {\n",
       "        vertical-align: top;\n",
       "    }\n",
       "\n",
       "    .dataframe thead th {\n",
       "        text-align: right;\n",
       "    }\n",
       "</style>\n",
       "<table border=\"1\" class=\"dataframe\">\n",
       "  <thead>\n",
       "    <tr style=\"text-align: right;\">\n",
       "      <th></th>\n",
       "      <th>value</th>\n",
       "      <th>datetime</th>\n",
       "      <th>datetime_utc</th>\n",
       "      <th>tz_time</th>\n",
       "      <th>geo_id</th>\n",
       "      <th>geo_name</th>\n",
       "      <th>name</th>\n",
       "      <th>short_name</th>\n",
       "    </tr>\n",
       "  </thead>\n",
       "  <tbody>\n",
       "    <tr>\n",
       "      <th>0</th>\n",
       "      <td>23046.0</td>\n",
       "      <td>2022-11-04T00:00:00.000+01:00</td>\n",
       "      <td>2022-11-03T23:00:00Z</td>\n",
       "      <td>2022-11-03T23:00:00.000Z</td>\n",
       "      <td>8741</td>\n",
       "      <td>Península</td>\n",
       "      <td>Demanda prevista</td>\n",
       "      <td>Demanda prevista</td>\n",
       "    </tr>\n",
       "    <tr>\n",
       "      <th>1</th>\n",
       "      <td>22981.0</td>\n",
       "      <td>2022-11-04T00:05:00.000+01:00</td>\n",
       "      <td>2022-11-03T23:05:00Z</td>\n",
       "      <td>2022-11-03T23:05:00.000Z</td>\n",
       "      <td>8741</td>\n",
       "      <td>Península</td>\n",
       "      <td>Demanda prevista</td>\n",
       "      <td>Demanda prevista</td>\n",
       "    </tr>\n",
       "    <tr>\n",
       "      <th>2</th>\n",
       "      <td>22899.0</td>\n",
       "      <td>2022-11-04T00:10:00.000+01:00</td>\n",
       "      <td>2022-11-03T23:10:00Z</td>\n",
       "      <td>2022-11-03T23:10:00.000Z</td>\n",
       "      <td>8741</td>\n",
       "      <td>Península</td>\n",
       "      <td>Demanda prevista</td>\n",
       "      <td>Demanda prevista</td>\n",
       "    </tr>\n",
       "    <tr>\n",
       "      <th>3</th>\n",
       "      <td>22800.0</td>\n",
       "      <td>2022-11-04T00:15:00.000+01:00</td>\n",
       "      <td>2022-11-03T23:15:00Z</td>\n",
       "      <td>2022-11-03T23:15:00.000Z</td>\n",
       "      <td>8741</td>\n",
       "      <td>Península</td>\n",
       "      <td>Demanda prevista</td>\n",
       "      <td>Demanda prevista</td>\n",
       "    </tr>\n",
       "    <tr>\n",
       "      <th>4</th>\n",
       "      <td>22694.0</td>\n",
       "      <td>2022-11-04T00:20:00.000+01:00</td>\n",
       "      <td>2022-11-03T23:20:00Z</td>\n",
       "      <td>2022-11-03T23:20:00.000Z</td>\n",
       "      <td>8741</td>\n",
       "      <td>Península</td>\n",
       "      <td>Demanda prevista</td>\n",
       "      <td>Demanda prevista</td>\n",
       "    </tr>\n",
       "    <tr>\n",
       "      <th>...</th>\n",
       "      <td>...</td>\n",
       "      <td>...</td>\n",
       "      <td>...</td>\n",
       "      <td>...</td>\n",
       "      <td>...</td>\n",
       "      <td>...</td>\n",
       "      <td>...</td>\n",
       "      <td>...</td>\n",
       "    </tr>\n",
       "    <tr>\n",
       "      <th>2431</th>\n",
       "      <td>21132.0</td>\n",
       "      <td>2022-11-06T10:35:00.000+01:00</td>\n",
       "      <td>2022-11-06T09:35:00Z</td>\n",
       "      <td>2022-11-06T09:35:00.000Z</td>\n",
       "      <td>8741</td>\n",
       "      <td>Península</td>\n",
       "      <td>Demanda real</td>\n",
       "      <td>Demanda real</td>\n",
       "    </tr>\n",
       "    <tr>\n",
       "      <th>2432</th>\n",
       "      <td>21122.0</td>\n",
       "      <td>2022-11-06T10:40:00.000+01:00</td>\n",
       "      <td>2022-11-06T09:40:00Z</td>\n",
       "      <td>2022-11-06T09:40:00.000Z</td>\n",
       "      <td>8741</td>\n",
       "      <td>Península</td>\n",
       "      <td>Demanda real</td>\n",
       "      <td>Demanda real</td>\n",
       "    </tr>\n",
       "    <tr>\n",
       "      <th>2433</th>\n",
       "      <td>21153.0</td>\n",
       "      <td>2022-11-06T10:45:00.000+01:00</td>\n",
       "      <td>2022-11-06T09:45:00Z</td>\n",
       "      <td>2022-11-06T09:45:00.000Z</td>\n",
       "      <td>8741</td>\n",
       "      <td>Península</td>\n",
       "      <td>Demanda real</td>\n",
       "      <td>Demanda real</td>\n",
       "    </tr>\n",
       "    <tr>\n",
       "      <th>2434</th>\n",
       "      <td>21229.0</td>\n",
       "      <td>2022-11-06T10:50:00.000+01:00</td>\n",
       "      <td>2022-11-06T09:50:00Z</td>\n",
       "      <td>2022-11-06T09:50:00.000Z</td>\n",
       "      <td>8741</td>\n",
       "      <td>Península</td>\n",
       "      <td>Demanda real</td>\n",
       "      <td>Demanda real</td>\n",
       "    </tr>\n",
       "    <tr>\n",
       "      <th>2435</th>\n",
       "      <td>21326.0</td>\n",
       "      <td>2022-11-06T10:55:00.000+01:00</td>\n",
       "      <td>2022-11-06T09:55:00Z</td>\n",
       "      <td>2022-11-06T09:55:00.000Z</td>\n",
       "      <td>8741</td>\n",
       "      <td>Península</td>\n",
       "      <td>Demanda real</td>\n",
       "      <td>Demanda real</td>\n",
       "    </tr>\n",
       "  </tbody>\n",
       "</table>\n",
       "<p>2436 rows × 8 columns</p>\n",
       "</div>"
      ],
      "text/plain": [
       "        value                       datetime          datetime_utc  \\\n",
       "0     23046.0  2022-11-04T00:00:00.000+01:00  2022-11-03T23:00:00Z   \n",
       "1     22981.0  2022-11-04T00:05:00.000+01:00  2022-11-03T23:05:00Z   \n",
       "2     22899.0  2022-11-04T00:10:00.000+01:00  2022-11-03T23:10:00Z   \n",
       "3     22800.0  2022-11-04T00:15:00.000+01:00  2022-11-03T23:15:00Z   \n",
       "4     22694.0  2022-11-04T00:20:00.000+01:00  2022-11-03T23:20:00Z   \n",
       "...       ...                            ...                   ...   \n",
       "2431  21132.0  2022-11-06T10:35:00.000+01:00  2022-11-06T09:35:00Z   \n",
       "2432  21122.0  2022-11-06T10:40:00.000+01:00  2022-11-06T09:40:00Z   \n",
       "2433  21153.0  2022-11-06T10:45:00.000+01:00  2022-11-06T09:45:00Z   \n",
       "2434  21229.0  2022-11-06T10:50:00.000+01:00  2022-11-06T09:50:00Z   \n",
       "2435  21326.0  2022-11-06T10:55:00.000+01:00  2022-11-06T09:55:00Z   \n",
       "\n",
       "                       tz_time  geo_id   geo_name              name  \\\n",
       "0     2022-11-03T23:00:00.000Z    8741  Península  Demanda prevista   \n",
       "1     2022-11-03T23:05:00.000Z    8741  Península  Demanda prevista   \n",
       "2     2022-11-03T23:10:00.000Z    8741  Península  Demanda prevista   \n",
       "3     2022-11-03T23:15:00.000Z    8741  Península  Demanda prevista   \n",
       "4     2022-11-03T23:20:00.000Z    8741  Península  Demanda prevista   \n",
       "...                        ...     ...        ...               ...   \n",
       "2431  2022-11-06T09:35:00.000Z    8741  Península      Demanda real   \n",
       "2432  2022-11-06T09:40:00.000Z    8741  Península      Demanda real   \n",
       "2433  2022-11-06T09:45:00.000Z    8741  Península      Demanda real   \n",
       "2434  2022-11-06T09:50:00.000Z    8741  Península      Demanda real   \n",
       "2435  2022-11-06T09:55:00.000Z    8741  Península      Demanda real   \n",
       "\n",
       "            short_name  \n",
       "0     Demanda prevista  \n",
       "1     Demanda prevista  \n",
       "2     Demanda prevista  \n",
       "3     Demanda prevista  \n",
       "4     Demanda prevista  \n",
       "...                ...  \n",
       "2431      Demanda real  \n",
       "2432      Demanda real  \n",
       "2433      Demanda real  \n",
       "2434      Demanda real  \n",
       "2435      Demanda real  \n",
       "\n",
       "[2436 rows x 8 columns]"
      ]
     },
     "execution_count": 15,
     "metadata": {},
     "output_type": "execute_result"
    }
   ],
   "source": [
    "datos_raw"
   ]
  },
  {
   "cell_type": "code",
   "execution_count": 16,
   "id": "7c68e085",
   "metadata": {},
   "outputs": [
    {
     "data": {
      "text/plain": [
       "array(['Demanda prevista', 'Demanda programada', 'Demanda real'],\n",
       "      dtype=object)"
      ]
     },
     "execution_count": 16,
     "metadata": {},
     "output_type": "execute_result"
    }
   ],
   "source": [
    "datos_raw['short_name'].unique()"
   ]
  },
  {
   "cell_type": "markdown",
   "id": "e916f89b",
   "metadata": {},
   "source": [
    "En este pandas tenemos todos los datos todos los datos de estos tres identificadores..Es importante un detalle que aparece en las descripciones de los tres identificadores: se refieren a 10 minutos, pero la granularidad con la que se presentan los datos es con un período de 5 minutos, es por ello que hemos indicado el`time_trunc = five_minutes`. Este texto `five_minutes` se indica en las paginas de ayuda de la API: \n",
    "\n",
    "https://api.esios.ree.es/indicator/getting_a_disaggregated_indicator_filtering_values_by_a_date_range_and_geo_ids,_grouped_by_geo_id_and_month,_using_avg_aggregation_for_geo_and_avg_for_time_without_time_trunc\n",
    "\n",
    "Personalmente me gusta reformatear el pandas, con nombre de columnas estandares y eliminando las que no voy a usar:"
   ]
  },
  {
   "cell_type": "code",
   "execution_count": 17,
   "id": "94af81b8",
   "metadata": {},
   "outputs": [],
   "source": [
    "datos = (datos_raw\n",
    "         .assign(fecha=lambda df_: pd #formateamos campo fecha, desde un str con diferencia horaria a un naive\n",
    "                      .to_datetime(df_['datetime'],utc=True)  # con la fecha local\n",
    "                      .dt\n",
    "                      .tz_convert('Europe/Madrid')\n",
    "                      .dt\n",
    "                      .tz_localize(None)\n",
    "                ) \n",
    "             .drop(['datetime','datetime_utc','tz_time','geo_id','geo_name','short_name'],\n",
    "                   axis=1) #eliminamos campos\n",
    "             .loc[:,['fecha','name','value']]\n",
    "             )\n",
    "        "
   ]
  },
  {
   "cell_type": "code",
   "execution_count": 18,
   "id": "1c170699",
   "metadata": {},
   "outputs": [
    {
     "data": {
      "text/html": [
       "<div>\n",
       "<style scoped>\n",
       "    .dataframe tbody tr th:only-of-type {\n",
       "        vertical-align: middle;\n",
       "    }\n",
       "\n",
       "    .dataframe tbody tr th {\n",
       "        vertical-align: top;\n",
       "    }\n",
       "\n",
       "    .dataframe thead th {\n",
       "        text-align: right;\n",
       "    }\n",
       "</style>\n",
       "<table border=\"1\" class=\"dataframe\">\n",
       "  <thead>\n",
       "    <tr style=\"text-align: right;\">\n",
       "      <th></th>\n",
       "      <th>fecha</th>\n",
       "      <th>name</th>\n",
       "      <th>value</th>\n",
       "    </tr>\n",
       "  </thead>\n",
       "  <tbody>\n",
       "    <tr>\n",
       "      <th>0</th>\n",
       "      <td>2022-11-04 00:00:00</td>\n",
       "      <td>Demanda prevista</td>\n",
       "      <td>23046.0</td>\n",
       "    </tr>\n",
       "    <tr>\n",
       "      <th>1</th>\n",
       "      <td>2022-11-04 00:05:00</td>\n",
       "      <td>Demanda prevista</td>\n",
       "      <td>22981.0</td>\n",
       "    </tr>\n",
       "    <tr>\n",
       "      <th>2</th>\n",
       "      <td>2022-11-04 00:10:00</td>\n",
       "      <td>Demanda prevista</td>\n",
       "      <td>22899.0</td>\n",
       "    </tr>\n",
       "    <tr>\n",
       "      <th>3</th>\n",
       "      <td>2022-11-04 00:15:00</td>\n",
       "      <td>Demanda prevista</td>\n",
       "      <td>22800.0</td>\n",
       "    </tr>\n",
       "    <tr>\n",
       "      <th>4</th>\n",
       "      <td>2022-11-04 00:20:00</td>\n",
       "      <td>Demanda prevista</td>\n",
       "      <td>22694.0</td>\n",
       "    </tr>\n",
       "    <tr>\n",
       "      <th>...</th>\n",
       "      <td>...</td>\n",
       "      <td>...</td>\n",
       "      <td>...</td>\n",
       "    </tr>\n",
       "    <tr>\n",
       "      <th>2431</th>\n",
       "      <td>2022-11-06 10:35:00</td>\n",
       "      <td>Demanda real</td>\n",
       "      <td>21132.0</td>\n",
       "    </tr>\n",
       "    <tr>\n",
       "      <th>2432</th>\n",
       "      <td>2022-11-06 10:40:00</td>\n",
       "      <td>Demanda real</td>\n",
       "      <td>21122.0</td>\n",
       "    </tr>\n",
       "    <tr>\n",
       "      <th>2433</th>\n",
       "      <td>2022-11-06 10:45:00</td>\n",
       "      <td>Demanda real</td>\n",
       "      <td>21153.0</td>\n",
       "    </tr>\n",
       "    <tr>\n",
       "      <th>2434</th>\n",
       "      <td>2022-11-06 10:50:00</td>\n",
       "      <td>Demanda real</td>\n",
       "      <td>21229.0</td>\n",
       "    </tr>\n",
       "    <tr>\n",
       "      <th>2435</th>\n",
       "      <td>2022-11-06 10:55:00</td>\n",
       "      <td>Demanda real</td>\n",
       "      <td>21326.0</td>\n",
       "    </tr>\n",
       "  </tbody>\n",
       "</table>\n",
       "<p>2436 rows × 3 columns</p>\n",
       "</div>"
      ],
      "text/plain": [
       "                   fecha              name    value\n",
       "0    2022-11-04 00:00:00  Demanda prevista  23046.0\n",
       "1    2022-11-04 00:05:00  Demanda prevista  22981.0\n",
       "2    2022-11-04 00:10:00  Demanda prevista  22899.0\n",
       "3    2022-11-04 00:15:00  Demanda prevista  22800.0\n",
       "4    2022-11-04 00:20:00  Demanda prevista  22694.0\n",
       "...                  ...               ...      ...\n",
       "2431 2022-11-06 10:35:00      Demanda real  21132.0\n",
       "2432 2022-11-06 10:40:00      Demanda real  21122.0\n",
       "2433 2022-11-06 10:45:00      Demanda real  21153.0\n",
       "2434 2022-11-06 10:50:00      Demanda real  21229.0\n",
       "2435 2022-11-06 10:55:00      Demanda real  21326.0\n",
       "\n",
       "[2436 rows x 3 columns]"
      ]
     },
     "execution_count": 18,
     "metadata": {},
     "output_type": "execute_result"
    }
   ],
   "source": [
    "datos"
   ]
  },
  {
   "cell_type": "markdown",
   "id": "66844524",
   "metadata": {},
   "source": [
    "y ya los tenemos disponibles para montar la gráfica:"
   ]
  },
  {
   "cell_type": "code",
   "execution_count": 19,
   "id": "794f0e6a",
   "metadata": {},
   "outputs": [
    {
     "data": {
      "text/plain": [
       "Text(0.7, 0.0, '@walyt')"
      ]
     },
     "execution_count": 19,
     "metadata": {},
     "output_type": "execute_result"
    },
    {
     "data": {
      "image/png": "[encoded data removed]",
      "text/plain": [
       "<Figure size 864x432 with 1 Axes>"
      ]
     },
     "metadata": {
      "needs_background": "light"
     },
     "output_type": "display_data"
    }
   ],
   "source": [
    "titulo = f'Demanda prevista vs Demanda programada vs Demanda real'\n",
    "fuente = 'https://www.ree.es/es/apidatos'\n",
    "autor='@walyt'\n",
    "\n",
    "f, ax = plt.subplots(figsize=(12,6))\n",
    "sns.set_style(style='white')\n",
    "paleta = ['violet','green','orange']\n",
    "\n",
    "sns.lineplot(\n",
    "     data=datos,\n",
    "     x='fecha', \n",
    "     y='value',\n",
    "     ci=None,\n",
    "     estimator=sum,\n",
    "     hue='name',\n",
    "     ax=ax,\n",
    "     linewidth=1.5,\n",
    "     palette=paleta\n",
    "     )\n",
    "\n",
    "ax.legend(loc=7,fontsize=18)\n",
    "\n",
    "ax.xaxis.set_tick_params(labelsize=14,width=0,rotation=0,pad=0)\n",
    "ax.yaxis.set_tick_params(labelsize=18,width=0,rotation=0,pad=-0)\n",
    "\n",
    "ax.set_ylim(bottom=9)\n",
    "ax.set_xlabel('')\n",
    "ax.set_ylabel('')\n",
    "ax.yaxis.set_major_formatter(plt.FuncFormatter(lambda v,x:f'{v/1000:,.0f} GW')) # los datos están en MW\n",
    "ax.set_xticks(datos['fecha'].unique()[::72]) #6 horas de espaciado en eje X son 6*12 periodos de 5 min\n",
    "ax.set_xticklabels([pd.to_datetime(i).strftime('%H:%M\\n%d-%b') for i in datos['fecha'].unique()[::72]])\n",
    "sns.despine(left=True, bottom=True)\n",
    "ax.grid(True)\n",
    "\n",
    "#Título\n",
    "ax.set_title('{}'.format(titulo),fontsize=24,color='black',pad=50,y=1.0)\n",
    "\n",
    "#Indicaciones inferior\n",
    "f.text(0.0, 0.0, 'Fuente de datos: {}'.format(fuente), horizontalalignment='left',\n",
    "             verticalalignment='center', fontsize=20,color='black')\n",
    "f.text(0.7,0.00,'{}'.format(autor),\n",
    "                 verticalalignment='center',fontsize=20,horizontalalignment='left',color='black')\n",
    "\n",
    "\n"
   ]
  },
  {
   "cell_type": "markdown",
   "id": "5deab325",
   "metadata": {},
   "source": [
    "que es la misma gráfica que encontramos en el link que hemos referenciado anteriormente."
   ]
  },
  {
   "cell_type": "markdown",
   "id": "93b025f8",
   "metadata": {},
   "source": [
    "# Datos desde https://www.ree.es/es/apidatos"
   ]
  },
  {
   "cell_type": "markdown",
   "id": "3bf2b909",
   "metadata": {},
   "source": [
    "En el link del título tenemos la descripción del servicio `REST` para acceder a la API. Siguiendo esas instrucciones montamos la funcion `download_ree` para que de manera fácil podamos bajar la información que disponemos.\n",
    "\n",
    "Veamos un ejemplo práctico bajando la generación, con sus diferentes tipos:"
   ]
  },
  {
   "cell_type": "code",
   "execution_count": 20,
   "id": "dedbee39",
   "metadata": {},
   "outputs": [],
   "source": [
    "fin = datetime.today().strftime('%Y-%m-%d')  # string con la fecha de hoy en el formato requerido por funcion\n",
    "inicio = (datetime.today()-timedelta(days=7)).strftime('%Y-%m-%d')\n",
    "identificador = 'generacion/estructura-generacion'"
   ]
  },
  {
   "cell_type": "code",
   "execution_count": 21,
   "id": "f1605e3a",
   "metadata": {},
   "outputs": [
    {
     "name": "stdout",
     "output_type": "stream",
     "text": [
      "https://apidatos.ree.es/es/datos/generacion/estructura-generacion?start_date=2022-10-30T00:00&end_date=2022-11-06T23:59&    time_trunc=day\n"
     ]
    }
   ],
   "source": [
    "raw = download_ree(identificador,inicio,fin)"
   ]
  },
  {
   "cell_type": "markdown",
   "id": "174a1339",
   "metadata": {},
   "source": [
    "Veamos un ejemplo de los datos descargados:"
   ]
  },
  {
   "cell_type": "code",
   "execution_count": 22,
   "id": "7d5a3bf3",
   "metadata": {},
   "outputs": [
    {
     "data": {
      "text/html": [
       "<div>\n",
       "<style scoped>\n",
       "    .dataframe tbody tr th:only-of-type {\n",
       "        vertical-align: middle;\n",
       "    }\n",
       "\n",
       "    .dataframe tbody tr th {\n",
       "        vertical-align: top;\n",
       "    }\n",
       "\n",
       "    .dataframe thead th {\n",
       "        text-align: right;\n",
       "    }\n",
       "</style>\n",
       "<table border=\"1\" class=\"dataframe\">\n",
       "  <thead>\n",
       "    <tr style=\"text-align: right;\">\n",
       "      <th></th>\n",
       "      <th>value</th>\n",
       "      <th>percentage</th>\n",
       "      <th>datetime</th>\n",
       "      <th>type</th>\n",
       "      <th>attributes.type</th>\n",
       "    </tr>\n",
       "  </thead>\n",
       "  <tbody>\n",
       "    <tr>\n",
       "      <th>63</th>\n",
       "      <td>66364.899</td>\n",
       "      <td>0.104941</td>\n",
       "      <td>2022-11-02T00:00:00.000+01:00</td>\n",
       "      <td>Solar fotovoltaica</td>\n",
       "      <td>Renovable</td>\n",
       "    </tr>\n",
       "  </tbody>\n",
       "</table>\n",
       "</div>"
      ],
      "text/plain": [
       "        value  percentage                       datetime                type  \\\n",
       "63  66364.899    0.104941  2022-11-02T00:00:00.000+01:00  Solar fotovoltaica   \n",
       "\n",
       "   attributes.type  \n",
       "63       Renovable  "
      ]
     },
     "execution_count": 22,
     "metadata": {},
     "output_type": "execute_result"
    }
   ],
   "source": [
    "raw.sample()"
   ]
  },
  {
   "cell_type": "markdown",
   "id": "e0bc8597",
   "metadata": {},
   "source": [
    "Tal como hicimos en el caso anterior vamos a formatear los datos en bruto para sacar la tabla que queremos:"
   ]
  },
  {
   "cell_type": "code",
   "execution_count": 23,
   "id": "278752ad",
   "metadata": {},
   "outputs": [
    {
     "data": {
      "text/plain": [
       "value              float64\n",
       "percentage         float64\n",
       "datetime            object\n",
       "type                object\n",
       "attributes.type     object\n",
       "dtype: object"
      ]
     },
     "execution_count": 23,
     "metadata": {},
     "output_type": "execute_result"
    }
   ],
   "source": [
    "raw.dtypes"
   ]
  },
  {
   "cell_type": "code",
   "execution_count": 24,
   "id": "729b74a2",
   "metadata": {},
   "outputs": [],
   "source": [
    "generacion = (raw\n",
    "              .assign(fecha=lambda df_: pd\n",
    "                      .to_datetime(df_['datetime'],utc=True)\n",
    "                      .dt\n",
    "                      .tz_convert('Europe/Madrid')\n",
    "                      .dt\n",
    "                      .tz_localize(None)\n",
    "                      )\n",
    "              .query('type in [\"Nuclear\",\"Solar fotovoltaica\",\"Eólica\",\"Hidráulica\"]')\n",
    "              .drop(['attributes.type','datetime','percentage'],axis=1)\n",
    "              .rename(columns={'value':'valor','type':'tipo','value':'generacion'})[['fecha','tipo','generacion']]\n",
    "            )"
   ]
  },
  {
   "cell_type": "markdown",
   "id": "86a3184a",
   "metadata": {},
   "source": [
    "y nos queda tal que así"
   ]
  },
  {
   "cell_type": "code",
   "execution_count": 25,
   "id": "b512b369",
   "metadata": {},
   "outputs": [
    {
     "data": {
      "text/html": [
       "<div>\n",
       "<style scoped>\n",
       "    .dataframe tbody tr th:only-of-type {\n",
       "        vertical-align: middle;\n",
       "    }\n",
       "\n",
       "    .dataframe tbody tr th {\n",
       "        vertical-align: top;\n",
       "    }\n",
       "\n",
       "    .dataframe thead th {\n",
       "        text-align: right;\n",
       "    }\n",
       "</style>\n",
       "<table border=\"1\" class=\"dataframe\">\n",
       "  <thead>\n",
       "    <tr style=\"text-align: right;\">\n",
       "      <th></th>\n",
       "      <th>fecha</th>\n",
       "      <th>tipo</th>\n",
       "      <th>generacion</th>\n",
       "    </tr>\n",
       "  </thead>\n",
       "  <tbody>\n",
       "    <tr>\n",
       "      <th>0</th>\n",
       "      <td>2022-10-30</td>\n",
       "      <td>Hidráulica</td>\n",
       "      <td>31237.000</td>\n",
       "    </tr>\n",
       "    <tr>\n",
       "      <th>1</th>\n",
       "      <td>2022-10-31</td>\n",
       "      <td>Hidráulica</td>\n",
       "      <td>32717.000</td>\n",
       "    </tr>\n",
       "    <tr>\n",
       "      <th>2</th>\n",
       "      <td>2022-11-01</td>\n",
       "      <td>Hidráulica</td>\n",
       "      <td>29986.500</td>\n",
       "    </tr>\n",
       "    <tr>\n",
       "      <th>3</th>\n",
       "      <td>2022-11-02</td>\n",
       "      <td>Hidráulica</td>\n",
       "      <td>35251.500</td>\n",
       "    </tr>\n",
       "    <tr>\n",
       "      <th>4</th>\n",
       "      <td>2022-11-03</td>\n",
       "      <td>Hidráulica</td>\n",
       "      <td>34890.100</td>\n",
       "    </tr>\n",
       "    <tr>\n",
       "      <th>5</th>\n",
       "      <td>2022-11-04</td>\n",
       "      <td>Hidráulica</td>\n",
       "      <td>31460.800</td>\n",
       "    </tr>\n",
       "    <tr>\n",
       "      <th>12</th>\n",
       "      <td>2022-10-30</td>\n",
       "      <td>Nuclear</td>\n",
       "      <td>124157.700</td>\n",
       "    </tr>\n",
       "    <tr>\n",
       "      <th>13</th>\n",
       "      <td>2022-10-31</td>\n",
       "      <td>Nuclear</td>\n",
       "      <td>119352.500</td>\n",
       "    </tr>\n",
       "    <tr>\n",
       "      <th>14</th>\n",
       "      <td>2022-11-01</td>\n",
       "      <td>Nuclear</td>\n",
       "      <td>119300.100</td>\n",
       "    </tr>\n",
       "    <tr>\n",
       "      <th>15</th>\n",
       "      <td>2022-11-02</td>\n",
       "      <td>Nuclear</td>\n",
       "      <td>119241.500</td>\n",
       "    </tr>\n",
       "    <tr>\n",
       "      <th>16</th>\n",
       "      <td>2022-11-03</td>\n",
       "      <td>Nuclear</td>\n",
       "      <td>119494.600</td>\n",
       "    </tr>\n",
       "    <tr>\n",
       "      <th>17</th>\n",
       "      <td>2022-11-04</td>\n",
       "      <td>Nuclear</td>\n",
       "      <td>120259.500</td>\n",
       "    </tr>\n",
       "    <tr>\n",
       "      <th>54</th>\n",
       "      <td>2022-10-30</td>\n",
       "      <td>Eólica</td>\n",
       "      <td>125767.771</td>\n",
       "    </tr>\n",
       "    <tr>\n",
       "      <th>55</th>\n",
       "      <td>2022-10-31</td>\n",
       "      <td>Eólica</td>\n",
       "      <td>230150.623</td>\n",
       "    </tr>\n",
       "    <tr>\n",
       "      <th>56</th>\n",
       "      <td>2022-11-01</td>\n",
       "      <td>Eólica</td>\n",
       "      <td>76426.996</td>\n",
       "    </tr>\n",
       "    <tr>\n",
       "      <th>57</th>\n",
       "      <td>2022-11-02</td>\n",
       "      <td>Eólica</td>\n",
       "      <td>71959.736</td>\n",
       "    </tr>\n",
       "    <tr>\n",
       "      <th>58</th>\n",
       "      <td>2022-11-03</td>\n",
       "      <td>Eólica</td>\n",
       "      <td>241650.525</td>\n",
       "    </tr>\n",
       "    <tr>\n",
       "      <th>59</th>\n",
       "      <td>2022-11-04</td>\n",
       "      <td>Eólica</td>\n",
       "      <td>245720.102</td>\n",
       "    </tr>\n",
       "    <tr>\n",
       "      <th>60</th>\n",
       "      <td>2022-10-30</td>\n",
       "      <td>Solar fotovoltaica</td>\n",
       "      <td>50241.528</td>\n",
       "    </tr>\n",
       "    <tr>\n",
       "      <th>61</th>\n",
       "      <td>2022-10-31</td>\n",
       "      <td>Solar fotovoltaica</td>\n",
       "      <td>26803.959</td>\n",
       "    </tr>\n",
       "    <tr>\n",
       "      <th>62</th>\n",
       "      <td>2022-11-01</td>\n",
       "      <td>Solar fotovoltaica</td>\n",
       "      <td>65699.655</td>\n",
       "    </tr>\n",
       "    <tr>\n",
       "      <th>63</th>\n",
       "      <td>2022-11-02</td>\n",
       "      <td>Solar fotovoltaica</td>\n",
       "      <td>66364.899</td>\n",
       "    </tr>\n",
       "    <tr>\n",
       "      <th>64</th>\n",
       "      <td>2022-11-03</td>\n",
       "      <td>Solar fotovoltaica</td>\n",
       "      <td>34377.529</td>\n",
       "    </tr>\n",
       "    <tr>\n",
       "      <th>65</th>\n",
       "      <td>2022-11-04</td>\n",
       "      <td>Solar fotovoltaica</td>\n",
       "      <td>65221.148</td>\n",
       "    </tr>\n",
       "  </tbody>\n",
       "</table>\n",
       "</div>"
      ],
      "text/plain": [
       "        fecha                tipo  generacion\n",
       "0  2022-10-30          Hidráulica   31237.000\n",
       "1  2022-10-31          Hidráulica   32717.000\n",
       "2  2022-11-01          Hidráulica   29986.500\n",
       "3  2022-11-02          Hidráulica   35251.500\n",
       "4  2022-11-03          Hidráulica   34890.100\n",
       "5  2022-11-04          Hidráulica   31460.800\n",
       "12 2022-10-30             Nuclear  124157.700\n",
       "13 2022-10-31             Nuclear  119352.500\n",
       "14 2022-11-01             Nuclear  119300.100\n",
       "15 2022-11-02             Nuclear  119241.500\n",
       "16 2022-11-03             Nuclear  119494.600\n",
       "17 2022-11-04             Nuclear  120259.500\n",
       "54 2022-10-30              Eólica  125767.771\n",
       "55 2022-10-31              Eólica  230150.623\n",
       "56 2022-11-01              Eólica   76426.996\n",
       "57 2022-11-02              Eólica   71959.736\n",
       "58 2022-11-03              Eólica  241650.525\n",
       "59 2022-11-04              Eólica  245720.102\n",
       "60 2022-10-30  Solar fotovoltaica   50241.528\n",
       "61 2022-10-31  Solar fotovoltaica   26803.959\n",
       "62 2022-11-01  Solar fotovoltaica   65699.655\n",
       "63 2022-11-02  Solar fotovoltaica   66364.899\n",
       "64 2022-11-03  Solar fotovoltaica   34377.529\n",
       "65 2022-11-04  Solar fotovoltaica   65221.148"
      ]
     },
     "execution_count": 25,
     "metadata": {},
     "output_type": "execute_result"
    }
   ],
   "source": [
    "generacion"
   ]
  },
  {
   "cell_type": "markdown",
   "id": "88f12d56",
   "metadata": {},
   "source": [
    "..y los utilizamos para generar un gráfico de barras que nos muestras la evolución de la generación, por cada fuente, en estos días:"
   ]
  },
  {
   "cell_type": "code",
   "execution_count": 26,
   "id": "c5bd09cf",
   "metadata": {},
   "outputs": [
    {
     "data": {
      "text/plain": [
       "Text(0.7, 0.0, '@walyt')"
      ]
     },
     "execution_count": 26,
     "metadata": {},
     "output_type": "execute_result"
    },
    {
     "data": {
      "image/png": "[encoded data removed]",
      "text/plain": [
       "<Figure size 864x432 with 1 Axes>"
      ]
     },
     "metadata": {},
     "output_type": "display_data"
    }
   ],
   "source": [
    "titulo = f'Evolucion de diferentes tecnologias de generacion'\n",
    "fuente = 'https://www.ree.es/es/apidatos'\n",
    "autor='@walyt'\n",
    "\n",
    "f, ax = plt.subplots(figsize=(12,6))\n",
    "sns.set_style(style='white')\n",
    "paleta = ['blue','violet','green','orange']\n",
    "\n",
    "sns.barplot(\n",
    "     data=generacion,\n",
    "     x='fecha', \n",
    "     y='generacion',\n",
    "     ci=None,\n",
    "     estimator=sum,\n",
    "     hue='tipo',\n",
    "     ax=ax,\n",
    "     palette=paleta\n",
    "     )\n",
    "\n",
    "ax.legend(loc='center left',fontsize=18,bbox_to_anchor=(1, 0.5))\n",
    "\n",
    "ax.xaxis.set_tick_params(labelsize=14,width=0,rotation=0,pad=0)\n",
    "ax.yaxis.set_tick_params(labelsize=18,width=0,rotation=0,pad=-0)\n",
    "\n",
    "ax.set_ylim(bottom=0)\n",
    "ax.set_xlabel('')\n",
    "ax.set_ylabel('')\n",
    "\n",
    "ax.yaxis.set_major_formatter(plt.FuncFormatter(lambda v,x:f'{v/1000:,.0f} GW')) # los datos están en MW\n",
    "\n",
    "ax.set_xticklabels([i.strftime('%-d-%b') for i in pd.to_datetime(generacion['fecha'].unique())])\n",
    "\n",
    "sns.despine(left=True, bottom=True)\n",
    "ax.grid(True)\n",
    "\n",
    "#Título\n",
    "ax.set_title('{}'.format(titulo),fontsize=24,color='black',pad=50,y=1.0)\n",
    "\n",
    "#Indicaciones inferior\n",
    "f.text(0.0, 0.0, 'Fuente de datos: {}'.format(fuente), horizontalalignment='left',\n",
    "             verticalalignment='center', fontsize=20,color='black')\n",
    "f.text(0.7,0.00,'{}'.format(autor),\n",
    "                 verticalalignment='center',fontsize=20,horizontalalignment='left',color='black')\n",
    "\n",
    "\n"
   ]
  },
  {
   "cell_type": "markdown",
   "id": "66a820a8",
   "metadata": {},
   "source": [
    "# Descarga de datos de gas GDAES"
   ]
  },
  {
   "cell_type": "markdown",
   "id": "168baf7c",
   "metadata": {},
   "source": [
    "Le toca el turno al gas, {ironía ON} el culpable de todos nuestros males {ironía OFF}. [MIBGAS](https://www.mibgas.es/es) ofrece una amplia variedad de datos, y como ejemplo he preparado dos funciones muy simples para bajar datos con el precio de gas PVB ([Punto Virtual de Balance](https://www.boe.es/buscar/doc.php?id=BOE-A-2020-682) ) y con el precio de gas utilizado para el cálculo de la famosa compensación de gas por el [Real Decreto 10/2022](https://www.boe.es/buscar/act.php?id=BOE-A-2022-7843). \n",
    "\n",
    "Empezamos con el primero, a la función tan solo hay que pasarle el año que queremos bajar. Este formato de descarga viene impuesto por la manera que tiene Mibgas de entregar está información, agrupada en ficheros excel por año: [ficheros excel de Mibgas](https://www.mibgas.es/es/file-access)"
   ]
  },
  {
   "cell_type": "code",
   "execution_count": 27,
   "id": "5a51e944",
   "metadata": {},
   "outputs": [],
   "source": [
    "gas = download_gas(2022)"
   ]
  },
  {
   "cell_type": "code",
   "execution_count": 28,
   "id": "8a657926",
   "metadata": {},
   "outputs": [
    {
     "data": {
      "text/html": [
       "<div>\n",
       "<style scoped>\n",
       "    .dataframe tbody tr th:only-of-type {\n",
       "        vertical-align: middle;\n",
       "    }\n",
       "\n",
       "    .dataframe tbody tr th {\n",
       "        vertical-align: top;\n",
       "    }\n",
       "\n",
       "    .dataframe thead th {\n",
       "        text-align: right;\n",
       "    }\n",
       "</style>\n",
       "<table border=\"1\" class=\"dataframe\">\n",
       "  <thead>\n",
       "    <tr style=\"text-align: right;\">\n",
       "      <th></th>\n",
       "      <th>fecha</th>\n",
       "      <th>Producto</th>\n",
       "      <th>precio</th>\n",
       "    </tr>\n",
       "  </thead>\n",
       "  <tbody>\n",
       "    <tr>\n",
       "      <th>0</th>\n",
       "      <td>2022-01-01</td>\n",
       "      <td>GDAES_D+1</td>\n",
       "      <td>53.17</td>\n",
       "    </tr>\n",
       "    <tr>\n",
       "      <th>1</th>\n",
       "      <td>2022-01-02</td>\n",
       "      <td>GDAES_D+1</td>\n",
       "      <td>57.72</td>\n",
       "    </tr>\n",
       "    <tr>\n",
       "      <th>2</th>\n",
       "      <td>2022-01-03</td>\n",
       "      <td>GDAES_D+1</td>\n",
       "      <td>73.58</td>\n",
       "    </tr>\n",
       "    <tr>\n",
       "      <th>3</th>\n",
       "      <td>2022-01-04</td>\n",
       "      <td>GDAES_D+1</td>\n",
       "      <td>88.17</td>\n",
       "    </tr>\n",
       "    <tr>\n",
       "      <th>4</th>\n",
       "      <td>2022-01-05</td>\n",
       "      <td>GDAES_D+1</td>\n",
       "      <td>90.20</td>\n",
       "    </tr>\n",
       "  </tbody>\n",
       "</table>\n",
       "</div>"
      ],
      "text/plain": [
       "       fecha   Producto  precio\n",
       "0 2022-01-01  GDAES_D+1   53.17\n",
       "1 2022-01-02  GDAES_D+1   57.72\n",
       "2 2022-01-03  GDAES_D+1   73.58\n",
       "3 2022-01-04  GDAES_D+1   88.17\n",
       "4 2022-01-05  GDAES_D+1   90.20"
      ]
     },
     "execution_count": 28,
     "metadata": {},
     "output_type": "execute_result"
    }
   ],
   "source": [
    "gas.head()"
   ]
  },
  {
   "cell_type": "markdown",
   "id": "34bc0e1c",
   "metadata": {},
   "source": [
    "Vemos que esta tabla ya está formateada con lo que podemos empezar a trabajar directamente con ellos. Preparemos una gráfica scatterplot con los datos desde 15 Junio cuando se puso en marcha el nuevo modelo de oferta de gas topado:"
   ]
  },
  {
   "cell_type": "code",
   "execution_count": 29,
   "id": "56dcd5ec",
   "metadata": {},
   "outputs": [
    {
     "name": "stderr",
     "output_type": "stream",
     "text": [
      "No artists with labels found to put in legend.  Note that artists whose label start with an underscore are ignored when legend() is called with no argument.\n"
     ]
    },
    {
     "data": {
      "text/plain": [
       "Text(0.7, 0.0, '@walyt')"
      ]
     },
     "execution_count": 29,
     "metadata": {},
     "output_type": "execute_result"
    },
    {
     "data": {
      "image/png": "[encoded data removed]",
      "text/plain": [
       "<Figure size 864x432 with 1 Axes>"
      ]
     },
     "metadata": {},
     "output_type": "display_data"
    }
   ],
   "source": [
    "titulo = f'Evolucion precio de gas en Mibgas'\n",
    "fuente = 'MIBGAS'\n",
    "autor='@walyt'\n",
    "\n",
    "f, ax = plt.subplots(figsize=(12,6))\n",
    "sns.set_style(style='white')\n",
    "paleta = ['blue','violet','green','orange']\n",
    "\n",
    "sns.scatterplot(\n",
    "     data=gas.loc[gas['fecha']>='2022-06-01',:],\n",
    "     x='fecha', \n",
    "     y='precio',\n",
    "     ci=None,\n",
    "     estimator=sum,\n",
    "     ax=ax,\n",
    "     palette=paleta\n",
    "     )\n",
    "\n",
    "ax.legend(loc='center left',fontsize=18,bbox_to_anchor=(1, 0.5))\n",
    "\n",
    "ax.xaxis.set_tick_params(labelsize=14,width=0,rotation=0,pad=0)\n",
    "ax.yaxis.set_tick_params(labelsize=18,width=0,rotation=0,pad=-0)\n",
    "\n",
    "ax.set_ylim(bottom=0)\n",
    "ax.set_xlabel('')\n",
    "ax.set_ylabel('')\n",
    "\n",
    "ax.yaxis.set_major_formatter(plt.FuncFormatter(lambda v,x:f'{v:,.1f} €')) # los datos están en MW\n",
    "\n",
    "#ax.set_xticklabels([i.strftime('%-d-%b') for i in pd.to_datetime(generacion['fecha'].unique())])\n",
    "\n",
    "sns.despine(left=True, bottom=True)\n",
    "ax.grid(True)\n",
    "\n",
    "#Título\n",
    "ax.set_title('{}'.format(titulo),fontsize=24,color='black',pad=50,y=1.0)\n",
    "\n",
    "#Indicaciones inferior\n",
    "f.text(0.0, 0.0, 'Fuente de datos: {}'.format(fuente), horizontalalignment='left',\n",
    "             verticalalignment='center', fontsize=20,color='black')\n",
    "f.text(0.7,0.00,'{}'.format(autor),\n",
    "                 verticalalignment='center',fontsize=20,horizontalalignment='left',color='black')\n",
    "\n",
    "\n"
   ]
  },
  {
   "cell_type": "markdown",
   "id": "8ab04686",
   "metadata": {},
   "source": [
    "# Precio de gas RD10/2022"
   ]
  },
  {
   "cell_type": "markdown",
   "id": "862a5cf5",
   "metadata": {},
   "source": [
    "Y ahora haremos lo mismo con los datos de la referencia del precio de compensación de gas, que Mibgas publica cada mañana antes de las 10:00 según se regula en el correspondiente [RD](https://www.boe.es/buscar/act.php?id=BOE-A-2022-7843).\n",
    "\n",
    "La función está preparada de manera análoga a la anterior : "
   ]
  },
  {
   "cell_type": "code",
   "execution_count": 30,
   "id": "2697d9da",
   "metadata": {},
   "outputs": [],
   "source": [
    "gas_rd = download_gas_rd(2022)"
   ]
  },
  {
   "cell_type": "code",
   "execution_count": 31,
   "id": "c74a9f37",
   "metadata": {},
   "outputs": [
    {
     "data": {
      "text/html": [
       "<div>\n",
       "<style scoped>\n",
       "    .dataframe tbody tr th:only-of-type {\n",
       "        vertical-align: middle;\n",
       "    }\n",
       "\n",
       "    .dataframe tbody tr th {\n",
       "        vertical-align: top;\n",
       "    }\n",
       "\n",
       "    .dataframe thead th {\n",
       "        text-align: right;\n",
       "    }\n",
       "</style>\n",
       "<table border=\"1\" class=\"dataframe\">\n",
       "  <thead>\n",
       "    <tr style=\"text-align: right;\">\n",
       "      <th></th>\n",
       "      <th>fecha</th>\n",
       "      <th>precio</th>\n",
       "    </tr>\n",
       "  </thead>\n",
       "  <tbody>\n",
       "    <tr>\n",
       "      <th>0</th>\n",
       "      <td>2022-06-15</td>\n",
       "      <td>80.00</td>\n",
       "    </tr>\n",
       "    <tr>\n",
       "      <th>1</th>\n",
       "      <td>2022-06-16</td>\n",
       "      <td>97.54</td>\n",
       "    </tr>\n",
       "    <tr>\n",
       "      <th>2</th>\n",
       "      <td>2022-06-17</td>\n",
       "      <td>106.94</td>\n",
       "    </tr>\n",
       "    <tr>\n",
       "      <th>3</th>\n",
       "      <td>2022-06-18</td>\n",
       "      <td>109.67</td>\n",
       "    </tr>\n",
       "    <tr>\n",
       "      <th>4</th>\n",
       "      <td>2022-06-19</td>\n",
       "      <td>106.33</td>\n",
       "    </tr>\n",
       "    <tr>\n",
       "      <th>...</th>\n",
       "      <td>...</td>\n",
       "      <td>...</td>\n",
       "    </tr>\n",
       "    <tr>\n",
       "      <th>141</th>\n",
       "      <td>2022-11-03</td>\n",
       "      <td>41.38</td>\n",
       "    </tr>\n",
       "    <tr>\n",
       "      <th>142</th>\n",
       "      <td>2022-11-04</td>\n",
       "      <td>51.81</td>\n",
       "    </tr>\n",
       "    <tr>\n",
       "      <th>143</th>\n",
       "      <td>2022-11-05</td>\n",
       "      <td>56.88</td>\n",
       "    </tr>\n",
       "    <tr>\n",
       "      <th>144</th>\n",
       "      <td>2022-11-06</td>\n",
       "      <td>44.27</td>\n",
       "    </tr>\n",
       "    <tr>\n",
       "      <th>145</th>\n",
       "      <td>2022-11-07</td>\n",
       "      <td>43.38</td>\n",
       "    </tr>\n",
       "  </tbody>\n",
       "</table>\n",
       "<p>146 rows × 2 columns</p>\n",
       "</div>"
      ],
      "text/plain": [
       "         fecha  precio\n",
       "0   2022-06-15   80.00\n",
       "1   2022-06-16   97.54\n",
       "2   2022-06-17  106.94\n",
       "3   2022-06-18  109.67\n",
       "4   2022-06-19  106.33\n",
       "..         ...     ...\n",
       "141 2022-11-03   41.38\n",
       "142 2022-11-04   51.81\n",
       "143 2022-11-05   56.88\n",
       "144 2022-11-06   44.27\n",
       "145 2022-11-07   43.38\n",
       "\n",
       "[146 rows x 2 columns]"
      ]
     },
     "execution_count": 31,
     "metadata": {},
     "output_type": "execute_result"
    }
   ],
   "source": [
    "gas_rd"
   ]
  },
  {
   "cell_type": "code",
   "execution_count": 32,
   "id": "b8e345ac",
   "metadata": {},
   "outputs": [
    {
     "name": "stderr",
     "output_type": "stream",
     "text": [
      "No artists with labels found to put in legend.  Note that artists whose label start with an underscore are ignored when legend() is called with no argument.\n"
     ]
    },
    {
     "data": {
      "text/plain": [
       "Text(0.7, 0.0, '@walyt')"
      ]
     },
     "execution_count": 32,
     "metadata": {},
     "output_type": "execute_result"
    },
    {
     "data": {
      "image/png": "[encoded data removed]",
      "text/plain": [
       "<Figure size 864x432 with 1 Axes>"
      ]
     },
     "metadata": {},
     "output_type": "display_data"
    }
   ],
   "source": [
    "titulo = f'Evolucion precio de compensación de gas según RD10/2022'\n",
    "fuente = 'MIBGAS'\n",
    "autor='@walyt'\n",
    "\n",
    "f, ax = plt.subplots(figsize=(12,6))\n",
    "sns.set_style(style='white')\n",
    "paleta = ['blue','violet','green','orange']\n",
    "\n",
    "sns.scatterplot(\n",
    "     data=gas_rd,\n",
    "     x='fecha', \n",
    "     y='precio',\n",
    "     ci=None,\n",
    "     estimator=sum,\n",
    "     ax=ax,\n",
    "     palette=paleta\n",
    "     )\n",
    "\n",
    "ax.legend(loc='center left',fontsize=18,bbox_to_anchor=(1, 0.5))\n",
    "\n",
    "ax.xaxis.set_tick_params(labelsize=14,width=0,rotation=0,pad=0)\n",
    "ax.yaxis.set_tick_params(labelsize=18,width=0,rotation=0,pad=-0)\n",
    "\n",
    "ax.set_ylim(bottom=0)\n",
    "ax.set_xlabel('')\n",
    "ax.set_ylabel('')\n",
    "\n",
    "ax.yaxis.set_major_formatter(plt.FuncFormatter(lambda v,x:f'{v:,.0f} €')) # los datos están en MW\n",
    "\n",
    "#ax.set_xticklabels([i.strftime('%-d-%b') for i in pd.to_datetime(generacion['fecha'].unique())])\n",
    "\n",
    "sns.despine(left=True, bottom=True)\n",
    "ax.grid(True)\n",
    "\n",
    "#Título\n",
    "ax.set_title('{}'.format(titulo),fontsize=24,color='black',pad=50,y=1.0)\n",
    "\n",
    "#Indicaciones inferior\n",
    "f.text(0.0, 0.0, 'Fuente de datos: {}'.format(fuente), horizontalalignment='left',\n",
    "             verticalalignment='center', fontsize=20,color='black')\n",
    "f.text(0.7,0.00,'{}'.format(autor),\n",
    "                 verticalalignment='center',fontsize=20,horizontalalignment='left',color='black')\n",
    "\n",
    "\n"
   ]
  },
  {
   "cell_type": "markdown",
   "id": "1f9ea7f9",
   "metadata": {},
   "source": [
    "y para terminar, y como curiosidad, podemos preparar un gráfico con las dos series: gas GDAES y este último de compensación:"
   ]
  },
  {
   "cell_type": "code",
   "execution_count": 33,
   "id": "be411e7c",
   "metadata": {},
   "outputs": [
    {
     "data": {
      "text/plain": [
       "Text(0.7, 0.0, '@walyt')"
      ]
     },
     "execution_count": 33,
     "metadata": {},
     "output_type": "execute_result"
    },
    {
     "data": {
      "image/png": "[encoded data removed]",
      "text/plain": [
       "<Figure size 864x432 with 1 Axes>"
      ]
     },
     "metadata": {},
     "output_type": "display_data"
    }
   ],
   "source": [
    "titulo = f'Evolucion precio de compensación de gas según RD10/2022'\n",
    "fuente = 'MIBGAS'\n",
    "autor='@walyt'\n",
    "\n",
    "f, ax = plt.subplots(figsize=(12,6))\n",
    "sns.set_style(style='white')\n",
    "\n",
    "sns.lineplot(\n",
    "     data=gas_rd,\n",
    "     x='fecha', \n",
    "     y='precio',\n",
    "     ci=None,\n",
    "     estimator=sum,\n",
    "     ax=ax,\n",
    "    color='blue',label='RD10/22'\n",
    "     )\n",
    "\n",
    "sns.lineplot(\n",
    "     data=gas.loc[gas['fecha']>='2022-06-14',:],\n",
    "     x='fecha', \n",
    "     y='precio',\n",
    "     ci=None,\n",
    "     estimator=sum,\n",
    "     ax=ax,\n",
    "    color='red',label='GDAES'\n",
    "     )\n",
    "\n",
    "ax.legend(loc='center left',fontsize=18,bbox_to_anchor=(1, 0.5))\n",
    "\n",
    "ax.xaxis.set_tick_params(labelsize=14,width=0,rotation=0,pad=0)\n",
    "ax.yaxis.set_tick_params(labelsize=18,width=0,rotation=0,pad=-0)\n",
    "\n",
    "ax.set_ylim(bottom=0)\n",
    "ax.set_xlabel('')\n",
    "ax.set_ylabel('')\n",
    "\n",
    "ax.yaxis.set_major_formatter(plt.FuncFormatter(lambda v,x:f'{v:,.0f} €')) # los datos están en MW\n",
    "\n",
    "#ax.set_xticklabels([i.strftime('%-d-%b') for i in pd.to_datetime(generacion['fecha'].unique())])\n",
    "\n",
    "sns.despine(left=True, bottom=True)\n",
    "ax.grid(True)\n",
    "\n",
    "#Título\n",
    "ax.set_title('{}'.format(titulo),fontsize=24,color='black',pad=50,y=1.0)\n",
    "\n",
    "#Indicaciones inferior\n",
    "f.text(0.0, 0.0, 'Fuente de datos: {}'.format(fuente), horizontalalignment='left',\n",
    "             verticalalignment='center', fontsize=20,color='black')\n",
    "f.text(0.7,0.00,'{}'.format(autor),\n",
    "                 verticalalignment='center',fontsize=20,horizontalalignment='left',color='black')"
   ]
  },
  {
   "cell_type": "code",
   "execution_count": null,
   "id": "edbf585a",
   "metadata": {},
   "outputs": [],
   "source": []
  }
 ],
 "metadata": {
  "kernelspec": {
   "display_name": "Python 3 (ipykernel)",
   "language": "python",
   "name": "python3"
  },
  "language_info": {
   "codemirror_mode": {
    "name": "ipython",
    "version": 3
   },
   "file_extension": ".py",
   "mimetype": "text/x-python",
   "name": "python",
   "nbconvert_exporter": "python",
   "pygments_lexer": "ipython3",
   "version": "3.8.13"
  },
  "toc": {
   "base_numbering": 1,
   "nav_menu": {},
   "number_sections": true,
   "sideBar": true,
   "skip_h1_title": false,
   "title_cell": "Table of Contents",
   "title_sidebar": "Contents",
   "toc_cell": false,
   "toc_position": {},
   "toc_section_display": true,
   "toc_window_display": true
  },
  "varInspector": {
   "cols": {
    "lenName": 16,
    "lenType": 16,
    "lenVar": 40
   },
   "kernels_config": {
    "python": {
     "delete_cmd_postfix": "",
     "delete_cmd_prefix": "del ",
     "library": "var_list.py",
     "varRefreshCmd": "print(var_dic_list())"
    },
    "r": {
     "delete_cmd_postfix": ") ",
     "delete_cmd_prefix": "rm(",
     "library": "var_list.r",
     "varRefreshCmd": "cat(var_dic_list()) "
    }
   },
   "types_to_exclude": [
    "module",
    "function",
    "builtin_function_or_method",
    "instance",
    "_Feature"
   ],
   "window_display": false
  }
 },
 "nbformat": 4,
 "nbformat_minor": 5
}
